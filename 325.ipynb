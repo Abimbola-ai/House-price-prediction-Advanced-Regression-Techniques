{
  "nbformat": 4,
  "nbformat_minor": 0,
  "metadata": {
    "colab": {
      "name": "315_complete-Copy1.ipynb",
      "provenance": [],
      "collapsed_sections": []
    },
    "interpreter": {
      "hash": "ebf11367f62d06ae95c9797bbe8443fd6502dfa542fb40dd62f7e001393044eb"
    },
    "kernelspec": {
      "name": "python3",
      "display_name": "Python 3.9.6 64-bit ('venv': conda)"
    },
    "language_info": {
      "codemirror_mode": {
        "name": "ipython",
        "version": 3
      },
      "file_extension": ".py",
      "mimetype": "text/x-python",
      "name": "python",
      "nbconvert_exporter": "python",
      "pygments_lexer": "ipython3",
      "version": "3.9.6"
    },
    "accelerator": "GPU"
  },
  "cells": [
    {
      "cell_type": "markdown",
      "metadata": {
        "id": "FFp5lEimNGXK"
      },
      "source": [
        "# Module 3: Machine Learning\n",
        "\n",
        "## Sprint 2: Intermediate Machine Learning\n",
        "\n",
        "## House prices regression competition, part 2"
      ]
    },
    {
      "cell_type": "markdown",
      "metadata": {
        "id": "0tqfeb0nNGXL"
      },
      "source": [
        "---"
      ]
    },
    {
      "cell_type": "markdown",
      "metadata": {
        "id": "HU-oFkOCNGXN"
      },
      "source": [
        "## Requirements\n",
        "\n",
        "- Build and submit a scikit-learn pipeline having neural network regressor as the model\n",
        "- Build and submit a scikit-learn pipeline having gradient boosted regressor as the model\n",
        "- Build and submit a xgboost model\n",
        "- Achieve a score better than 0.13 on the public leaderboard"
      ]
    },
    {
      "cell_type": "markdown",
      "metadata": {
        "id": "FVX0Dun9NGXO"
      },
      "source": [
        "## Evaluation criteria\n",
        "\n",
        "- Public leaderboard score\n",
        "- How simple is the model\n",
        "- How fast is the model prediction\n",
        "- Code quality"
      ]
    },
    {
      "cell_type": "markdown",
      "metadata": {
        "id": "AYR2xwnoNGXO"
      },
      "source": [
        "\n",
        "## Sample correction questions\n",
        "\n",
        "During a correction, you may get asked questions that test your understanding of covered topics.\n",
        "\n",
        "- How can model regularization help and what are some of the ways to use regularization?\n",
        "- What are the benefits and the risks of hyper-parameter optimization?\n",
        "- Why is it useful to crossvalidate your model using many splits? Why sometimes a single validation split is still used?\n",
        "- Why is it useful to build a pipeline that encapsulates all the preprocessing, model training and other steps?"
      ]
    },
    {
      "cell_type": "code",
      "metadata": {
        "id": "GmVGw3JJNGXO",
        "colab": {
          "base_uri": "https://localhost:8080/"
        },
        "outputId": "435bd3e7-d313-4151-cb09-d355e12205cd"
      },
      "source": [
        "import pandas as pd\n",
        "import numpy as np\n",
        "import matplotlib.pyplot as plt \n",
        "import seaborn as sns \n",
        "from sklearn.metrics import mean_squared_error\n",
        "from sklearn.model_selection import train_test_split\n",
        "from sklearn.linear_model import LinearRegression\n",
        "from scipy import stats\n",
        "from sklearn import preprocessing\n",
        "from mlxtend.feature_selection import SequentialFeatureSelector \n",
        "from sklearn.model_selection import KFold\n",
        "from sklearn.model_selection import cross_val_score \n",
        "from sklearn.metrics import mean_squared_error\n",
        "from sklearn.pipeline import Pipeline\n",
        "from sklearn.ensemble import GradientBoostingRegressor\n",
        "from sklearn.model_selection import GridSearchCV\n",
        "from sklearn.model_selection import cross_val_score\n",
        "from xgboost import XGBRegressor\n",
        "from tensorflow.keras.models import Sequential\n",
        "from tensorflow.keras.layers import Dense\n",
        "from tensorflow.keras.optimizers import Adam\n",
        "from sklearn.preprocessing import StandardScaler\n",
        "\n",
        "import time\n",
        "import warnings\n",
        "warnings.filterwarnings('ignore')\n",
        "SEED = 42\n"
      ],
      "execution_count": 1,
      "outputs": [
        {
          "output_type": "stream",
          "name": "stderr",
          "text": [
            "/usr/local/lib/python3.7/dist-packages/sklearn/externals/joblib/__init__.py:15: FutureWarning: sklearn.externals.joblib is deprecated in 0.21 and will be removed in 0.23. Please import this functionality directly from joblib, which can be installed with: pip install joblib. If this warning is raised when loading pickled models, you may need to re-serialize those models with scikit-learn 0.21+.\n",
            "  warnings.warn(msg, category=FutureWarning)\n"
          ]
        }
      ]
    },
    {
      "cell_type": "code",
      "metadata": {
        "id": "g7PFPwf0-710"
      },
      "source": [
        "def concat_df(train_data,test_data):\n",
        "  \"\"\"Function to concatenate 2 dataframes\"\"\"\n",
        "  return pd.concat([train_data,test_data], sort=True).reset_index(drop=True)\n",
        "\n",
        "def divide_df(all_data):\n",
        "  \"\"\"Function to split the 2 dataframes\"\"\"\n",
        "  return all_data.loc[:1459], all_data.loc[1460:]"
      ],
      "execution_count": 2,
      "outputs": []
    },
    {
      "cell_type": "code",
      "metadata": {
        "id": "1ItYMnueNGXP",
        "colab": {
          "base_uri": "https://localhost:8080/"
        },
        "outputId": "108f89bc-c634-4808-9531-7f51c68ac063"
      },
      "source": [
        "df_train = pd.read_csv(\"train.csv\")\n",
        "y_train = df_train.SalePrice\n",
        "id_val = df_train.Id\n",
        "print(f\"Train data shape is:\", df_train.shape )\n",
        "df_test = pd.read_csv(\"test.csv\")\n",
        "print(f\"Test data shape is:\", df_test.shape )"
      ],
      "execution_count": 3,
      "outputs": [
        {
          "output_type": "stream",
          "name": "stdout",
          "text": [
            "Train data shape is: (1460, 81)\n",
            "Test data shape is: (1459, 80)\n"
          ]
        }
      ]
    },
    {
      "cell_type": "code",
      "metadata": {
        "id": "RngkWowQNGXP",
        "colab": {
          "base_uri": "https://localhost:8080/"
        },
        "outputId": "1fe55aa6-7684-41ed-9d47-e271ad224896"
      },
      "source": [
        "df_all = concat_df(df_train,df_test).drop([\"SalePrice\",\"Id\"],axis=1)\n",
        "df_train.name = \"Train\"\n",
        "df_test.name = \"Test\"\n",
        "df_all.name = \"All\"\n",
        "dataframes = [df_train,df_test]\n",
        "print(\"DataFrame joined\")"
      ],
      "execution_count": 4,
      "outputs": [
        {
          "output_type": "stream",
          "name": "stdout",
          "text": [
            "DataFrame joined\n"
          ]
        }
      ]
    },
    {
      "cell_type": "markdown",
      "metadata": {
        "id": "b6BnIb8VCdFA"
      },
      "source": [
        "### Missing Values"
      ]
    },
    {
      "cell_type": "code",
      "metadata": {
        "colab": {
          "base_uri": "https://localhost:8080/",
          "height": 686
        },
        "id": "Hk1UC47mCiRP",
        "outputId": "886251f0-5d6f-4000-e43d-162cc6ee08c3"
      },
      "source": [
        "total = df_train.isnull().sum().sort_values(ascending=False)\n",
        "percent = ((df_train.isnull().sum()/df_train.isnull().count()) * 100).sort_values(ascending=False)\n",
        "missing_values = pd.concat([total,percent], axis=1, keys = [\"total\",\"percent\"])\n",
        "print(\"Sorted missing values in descending order:\")\n",
        "missing_values.head(20)"
      ],
      "execution_count": 5,
      "outputs": [
        {
          "output_type": "stream",
          "name": "stdout",
          "text": [
            "Sorted missing values in descending order:\n"
          ]
        },
        {
          "output_type": "execute_result",
          "data": {
            "text/html": [
              "<div>\n",
              "<style scoped>\n",
              "    .dataframe tbody tr th:only-of-type {\n",
              "        vertical-align: middle;\n",
              "    }\n",
              "\n",
              "    .dataframe tbody tr th {\n",
              "        vertical-align: top;\n",
              "    }\n",
              "\n",
              "    .dataframe thead th {\n",
              "        text-align: right;\n",
              "    }\n",
              "</style>\n",
              "<table border=\"1\" class=\"dataframe\">\n",
              "  <thead>\n",
              "    <tr style=\"text-align: right;\">\n",
              "      <th></th>\n",
              "      <th>total</th>\n",
              "      <th>percent</th>\n",
              "    </tr>\n",
              "  </thead>\n",
              "  <tbody>\n",
              "    <tr>\n",
              "      <th>PoolQC</th>\n",
              "      <td>1453</td>\n",
              "      <td>99.520548</td>\n",
              "    </tr>\n",
              "    <tr>\n",
              "      <th>MiscFeature</th>\n",
              "      <td>1406</td>\n",
              "      <td>96.301370</td>\n",
              "    </tr>\n",
              "    <tr>\n",
              "      <th>Alley</th>\n",
              "      <td>1369</td>\n",
              "      <td>93.767123</td>\n",
              "    </tr>\n",
              "    <tr>\n",
              "      <th>Fence</th>\n",
              "      <td>1179</td>\n",
              "      <td>80.753425</td>\n",
              "    </tr>\n",
              "    <tr>\n",
              "      <th>FireplaceQu</th>\n",
              "      <td>690</td>\n",
              "      <td>47.260274</td>\n",
              "    </tr>\n",
              "    <tr>\n",
              "      <th>LotFrontage</th>\n",
              "      <td>259</td>\n",
              "      <td>17.739726</td>\n",
              "    </tr>\n",
              "    <tr>\n",
              "      <th>GarageCond</th>\n",
              "      <td>81</td>\n",
              "      <td>5.547945</td>\n",
              "    </tr>\n",
              "    <tr>\n",
              "      <th>GarageType</th>\n",
              "      <td>81</td>\n",
              "      <td>5.547945</td>\n",
              "    </tr>\n",
              "    <tr>\n",
              "      <th>GarageYrBlt</th>\n",
              "      <td>81</td>\n",
              "      <td>5.547945</td>\n",
              "    </tr>\n",
              "    <tr>\n",
              "      <th>GarageFinish</th>\n",
              "      <td>81</td>\n",
              "      <td>5.547945</td>\n",
              "    </tr>\n",
              "    <tr>\n",
              "      <th>GarageQual</th>\n",
              "      <td>81</td>\n",
              "      <td>5.547945</td>\n",
              "    </tr>\n",
              "    <tr>\n",
              "      <th>BsmtExposure</th>\n",
              "      <td>38</td>\n",
              "      <td>2.602740</td>\n",
              "    </tr>\n",
              "    <tr>\n",
              "      <th>BsmtFinType2</th>\n",
              "      <td>38</td>\n",
              "      <td>2.602740</td>\n",
              "    </tr>\n",
              "    <tr>\n",
              "      <th>BsmtFinType1</th>\n",
              "      <td>37</td>\n",
              "      <td>2.534247</td>\n",
              "    </tr>\n",
              "    <tr>\n",
              "      <th>BsmtCond</th>\n",
              "      <td>37</td>\n",
              "      <td>2.534247</td>\n",
              "    </tr>\n",
              "    <tr>\n",
              "      <th>BsmtQual</th>\n",
              "      <td>37</td>\n",
              "      <td>2.534247</td>\n",
              "    </tr>\n",
              "    <tr>\n",
              "      <th>MasVnrArea</th>\n",
              "      <td>8</td>\n",
              "      <td>0.547945</td>\n",
              "    </tr>\n",
              "    <tr>\n",
              "      <th>MasVnrType</th>\n",
              "      <td>8</td>\n",
              "      <td>0.547945</td>\n",
              "    </tr>\n",
              "    <tr>\n",
              "      <th>Electrical</th>\n",
              "      <td>1</td>\n",
              "      <td>0.068493</td>\n",
              "    </tr>\n",
              "    <tr>\n",
              "      <th>Utilities</th>\n",
              "      <td>0</td>\n",
              "      <td>0.000000</td>\n",
              "    </tr>\n",
              "  </tbody>\n",
              "</table>\n",
              "</div>"
            ],
            "text/plain": [
              "              total    percent\n",
              "PoolQC         1453  99.520548\n",
              "MiscFeature    1406  96.301370\n",
              "Alley          1369  93.767123\n",
              "Fence          1179  80.753425\n",
              "FireplaceQu     690  47.260274\n",
              "LotFrontage     259  17.739726\n",
              "GarageCond       81   5.547945\n",
              "GarageType       81   5.547945\n",
              "GarageYrBlt      81   5.547945\n",
              "GarageFinish     81   5.547945\n",
              "GarageQual       81   5.547945\n",
              "BsmtExposure     38   2.602740\n",
              "BsmtFinType2     38   2.602740\n",
              "BsmtFinType1     37   2.534247\n",
              "BsmtCond         37   2.534247\n",
              "BsmtQual         37   2.534247\n",
              "MasVnrArea        8   0.547945\n",
              "MasVnrType        8   0.547945\n",
              "Electrical        1   0.068493\n",
              "Utilities         0   0.000000"
            ]
          },
          "metadata": {},
          "execution_count": 5
        }
      ]
    },
    {
      "cell_type": "markdown",
      "metadata": {
        "id": "7mjiTEpgEXkR"
      },
      "source": [
        "* For features with missing values less than 100 - fill numeric with median, categoricals with mode.\n",
        "* For features with missing values > 1000 - Drop this features\n",
        "* For other features - Fill with null"
      ]
    },
    {
      "cell_type": "code",
      "metadata": {
        "id": "9bpj_b0cE0Og"
      },
      "source": [
        "null_feat = df_all.isnull().sum()\n",
        "\n",
        "# For features with missing values less than 100\n",
        "null_100 = df_all.columns[list((null_feat<100) & (null_feat != 0))]\n",
        "numerical_null_100 = df_all[null_100].select_dtypes(include=np.number).columns\n",
        "categorical_null_100 = df_all[null_100].select_dtypes(include=\"object\").columns\n",
        "\n",
        "# Apply fill with median to numericals\n",
        "df_all[numerical_null_100] = df_all[numerical_null_100].apply(lambda x: x.fillna(x.median()))\n",
        "\n",
        "# Apply fill with mode to categoricals\n",
        "df_all[categorical_null_100] = df_all[categorical_null_100].apply(lambda x: x.fillna(x.value_counts().index[0]))\n",
        "\n",
        "# For features having larger than 1000\n",
        "null_1000 = df_all.columns[list(null_feat>1000)]\n",
        "df_all.drop(null_1000, axis=1, inplace=True)\n",
        "df_all.drop([\"GarageYrBlt\",\"LotFrontage\"], axis=1, inplace=True)\n",
        "\n",
        "# Fill with \"Null\" for other values\n",
        "df_all[\"GarageCond\"] = df_all[\"GarageCond\"].fillna(\"Null\")\n",
        "df_all[\"GarageFinish\"] = df_all[\"GarageFinish\"].fillna(\"Null\")\n",
        "df_all[\"GarageQual\"] = df_all[\"GarageQual\"].fillna(\"Null\")\n",
        "df_all[\"GarageType\"] = df_all[\"GarageType\"].fillna(\"Null\")"
      ],
      "execution_count": 6,
      "outputs": []
    },
    {
      "cell_type": "code",
      "metadata": {
        "colab": {
          "base_uri": "https://localhost:8080/"
        },
        "id": "y08BtVe6KDbh",
        "outputId": "c53f4e54-8a26-4ff3-e6f4-9049da6b6e2f"
      },
      "source": [
        "df_train, df_test = divide_df(df_all)\n",
        "df_train = pd.concat([df_train, y_train], axis=1)\n",
        "print(f\"Sum of null values in dataset after filling:\", df_all.isnull().any().sum())"
      ],
      "execution_count": 7,
      "outputs": [
        {
          "output_type": "stream",
          "name": "stdout",
          "text": [
            "Sum of null values in dataset after filling: 0\n"
          ]
        }
      ]
    },
    {
      "cell_type": "markdown",
      "metadata": {
        "id": "aRUyjVmnF0Kl"
      },
      "source": [
        "### Categorical Features"
      ]
    },
    {
      "cell_type": "markdown",
      "metadata": {
        "id": "QngILQFeF0Kl"
      },
      "source": [
        "* Some columns in the training set do not exist in the test set. Visualizing some categorical features shows their variation with the target feature.\n",
        "* There are 38 categorical features in the dataset"
      ]
    },
    {
      "cell_type": "code",
      "metadata": {
        "colab": {
          "base_uri": "https://localhost:8080/",
          "height": 338
        },
        "id": "s2xoWoxXF0Km",
        "outputId": "504254b1-36f9-47fa-c931-e9f4f2ffd9e1"
      },
      "source": [
        "#OverallQuall\n",
        "f, ax = plt.subplots(figsize=(10, 5))\n",
        "fig = sns.boxplot(x=df_train[\"OverallQual\"],y=df_train[\"SalePrice\"])\n",
        "fig.axis(ymin=0, ymax=800000);"
      ],
      "execution_count": 8,
      "outputs": [
        {
          "output_type": "display_data",
          "data": {
            "image/png": "[encoded data removed]",
            "text/plain": [
              "<Figure size 720x360 with 1 Axes>"
            ]
          },
          "metadata": {
            "needs_background": "light"
          }
        }
      ]
    },
    {
      "cell_type": "markdown",
      "metadata": {
        "id": "0m-3aKTkJYgt"
      },
      "source": [
        "`OverallQuall` shows increase in `SalePrice` as the quality increases."
      ]
    },
    {
      "cell_type": "code",
      "metadata": {
        "colab": {
          "base_uri": "https://localhost:8080/",
          "height": 305
        },
        "id": "VJ7txURjF0Km",
        "outputId": "255e89fe-2d86-4ee6-e1c3-ae5a813c5fef"
      },
      "source": [
        "#YearRemodAdd\n",
        "f, ax = plt.subplots(figsize=(25, 5))\n",
        "fig = sns.boxplot(x=df_train[\"YearRemodAdd\"],y=df_train[\"SalePrice\"])\n",
        "fig.axis(ymin=0, ymax=800000);"
      ],
      "execution_count": 9,
      "outputs": [
        {
          "output_type": "display_data",
          "data": {
            "image/png": "[encoded data removed]",
            "text/plain": [
              "<Figure size 1800x360 with 1 Axes>"
            ]
          },
          "metadata": {
            "needs_background": "light"
          }
        }
      ]
    },
    {
      "cell_type": "markdown",
      "metadata": {
        "id": "IrrJJC1xJYgt"
      },
      "source": [
        "`YearRemodAdd` shows variability but other factors could have constituted in the increase in proce for that year. This alone can not be considered."
      ]
    },
    {
      "cell_type": "code",
      "metadata": {
        "colab": {
          "base_uri": "https://localhost:8080/",
          "height": 338
        },
        "id": "ajNCsl3kF0Km",
        "outputId": "dabf15c2-e899-4a75-8894-e1642fd425f1"
      },
      "source": [
        "#Neighborhood\n",
        "f, ax = plt.subplots(figsize=(10, 5))\n",
        "fig = sns.boxplot(x=df_train[\"Neighborhood\"],y=df_train[\"SalePrice\"])\n",
        "fig.axis(ymin=0, ymax=800000);"
      ],
      "execution_count": 10,
      "outputs": [
        {
          "output_type": "display_data",
          "data": {
            "image/png": "[encoded data removed]",
            "text/plain": [
              "<Figure size 720x360 with 1 Axes>"
            ]
          },
          "metadata": {
            "needs_background": "light"
          }
        }
      ]
    },
    {
      "cell_type": "markdown",
      "metadata": {
        "id": "Oe3CjDbYJYgu"
      },
      "source": [
        "`Neighborhood` also shows variability with price. "
      ]
    },
    {
      "cell_type": "code",
      "metadata": {
        "colab": {
          "base_uri": "https://localhost:8080/",
          "height": 355
        },
        "id": "msGaQk4hF0Km",
        "outputId": "90e80e88-5dda-4c73-c825-865bb6fc298a"
      },
      "source": [
        "#CentralAir\n",
        "f, ax = plt.subplots(figsize=(8, 5))\n",
        "fig = sns.boxplot(x=df_train[\"CentralAir\"],y=df_train[\"SalePrice\"])\n",
        "fig.axis(ymin=0, ymax=800000)"
      ],
      "execution_count": 11,
      "outputs": [
        {
          "output_type": "execute_result",
          "data": {
            "text/plain": [
              "(-0.5, 1.5, 0.0, 800000.0)"
            ]
          },
          "metadata": {},
          "execution_count": 11
        },
        {
          "output_type": "display_data",
          "data": {
            "image/png": "[encoded data removed]",
            "text/plain": [
              "<Figure size 576x360 with 1 Axes>"
            ]
          },
          "metadata": {
            "needs_background": "light"
          }
        }
      ]
    },
    {
      "cell_type": "markdown",
      "metadata": {
        "id": "M03Xhyq3JYgu"
      },
      "source": [
        "`CentralAir` does not distinguish more but it can be seen that high prices are within the `Yes`"
      ]
    },
    {
      "cell_type": "code",
      "metadata": {
        "colab": {
          "base_uri": "https://localhost:8080/",
          "height": 338
        },
        "id": "ClDJIu9yF0Km",
        "outputId": "4e9f8497-ac0b-4eb3-f697-85400f5b11b0"
      },
      "source": [
        "#Saletype\n",
        "f, ax = plt.subplots(figsize=(10, 5))\n",
        "fig = sns.boxplot(x=df_train[\"SaleType\"],y=df_train[\"SalePrice\"])\n",
        "fig.axis(ymin=0, ymax=800000);"
      ],
      "execution_count": 12,
      "outputs": [
        {
          "output_type": "display_data",
          "data": {
            "image/png": "[encoded data removed]",
            "text/plain": [
              "<Figure size 720x360 with 1 Axes>"
            ]
          },
          "metadata": {
            "needs_background": "light"
          }
        }
      ]
    },
    {
      "cell_type": "markdown",
      "metadata": {
        "id": "7wzWtT9kJYgu"
      },
      "source": [
        "`Saletype` shows some good variability. Rename for better understanding "
      ]
    },
    {
      "cell_type": "markdown",
      "metadata": {
        "id": "Pwa4D0b4F0Kn"
      },
      "source": [
        "### Numerical Features"
      ]
    },
    {
      "cell_type": "markdown",
      "metadata": {
        "id": "M8VH55FnF0Kn"
      },
      "source": [
        "* There are 34 numeric features in the dataset\n",
        "* Carried out a variable investigation to determing which variables have high, low or medium expectations.This is based on what I will personally look for in a house."
      ]
    },
    {
      "cell_type": "code",
      "metadata": {
        "colab": {
          "base_uri": "https://localhost:8080/"
        },
        "id": "pTSGDlPkF0Kn",
        "outputId": "c326d4a8-be85-4d9e-b48c-17436b4877c0"
      },
      "source": [
        "df_train[\"SalePrice\"].describe()"
      ],
      "execution_count": 13,
      "outputs": [
        {
          "output_type": "execute_result",
          "data": {
            "text/plain": [
              "count      1460.000000\n",
              "mean     180921.195890\n",
              "std       79442.502883\n",
              "min       34900.000000\n",
              "25%      129975.000000\n",
              "50%      163000.000000\n",
              "75%      214000.000000\n",
              "max      755000.000000\n",
              "Name: SalePrice, dtype: float64"
            ]
          },
          "metadata": {},
          "execution_count": 13
        }
      ]
    },
    {
      "cell_type": "code",
      "metadata": {
        "colab": {
          "base_uri": "https://localhost:8080/",
          "height": 290
        },
        "id": "_Ou2qeDHF0Kn",
        "outputId": "27c23fbd-6d8d-49f5-b7e7-a52ea0256ea4"
      },
      "source": [
        "sns.distplot(df_train[\"SalePrice\"]);"
      ],
      "execution_count": 14,
      "outputs": [
        {
          "output_type": "display_data",
          "data": {
            "image/png": "[encoded data removed]",
            "text/plain": [
              "<Figure size 432x288 with 1 Axes>"
            ]
          },
          "metadata": {
            "needs_background": "light"
          }
        }
      ]
    },
    {
      "cell_type": "code",
      "metadata": {
        "colab": {
          "base_uri": "https://localhost:8080/"
        },
        "id": "KpNEDBkjF0Kn",
        "outputId": "6893503a-70c2-409a-c531-f9d5626fc22f"
      },
      "source": [
        "# skewness and kurtosis\n",
        "# https://www.analyticsvidhya.com/blog/2021/05/shape-of-data-skewness-and-kurtosis/\n",
        "print(\"Skewness: %f\" % df_train['SalePrice'].skew())\n",
        "print(\"Kurtosis: %f\" % df_train['SalePrice'].kurt())"
      ],
      "execution_count": 15,
      "outputs": [
        {
          "output_type": "stream",
          "name": "stdout",
          "text": [
            "Skewness: 1.882876\n",
            "Kurtosis: 6.536282\n"
          ]
        }
      ]
    },
    {
      "cell_type": "markdown",
      "metadata": {
        "id": "AdVm9mZ9F0Kn"
      },
      "source": [
        "The minimum `SalePrice` seem reasonable. The distribution is not normal and also it is right skewed (mean > median > mode), i.e. It has a higher number of datapoints having low values, so when we train our model like this, it will perform better at predicting low house prices. Skewness also tells us about the direction of outliers\n",
        "https://www.analyticsvidhya.com/blog/2020/07/what-is-skewness-statistics/\n",
        "\n",
        "The Kurtosis is Leptokurtic (i.e Kurtosis > 3). This shows from the viz,the sistribution is peaked and possesses thick tails."
      ]
    },
    {
      "cell_type": "code",
      "metadata": {
        "colab": {
          "base_uri": "https://localhost:8080/",
          "height": 296
        },
        "id": "lzItXA7oF0Kn",
        "outputId": "f59772be-b45e-460a-e844-055f9e75bb30"
      },
      "source": [
        "plt.scatter(df_train[\"TotalBsmtSF\"],df_train[\"SalePrice\"]);\n",
        "plt.xlabel(\"Total square feet of basement area\")\n",
        "plt.ylabel(\"House sale price\")"
      ],
      "execution_count": 16,
      "outputs": [
        {
          "output_type": "execute_result",
          "data": {
            "text/plain": [
              "Text(0, 0.5, 'House sale price')"
            ]
          },
          "metadata": {},
          "execution_count": 16
        },
        {
          "output_type": "display_data",
          "data": {
            "image/png": "[encoded data removed]",
            "text/plain": [
              "<Figure size 432x288 with 1 Axes>"
            ]
          },
          "metadata": {
            "needs_background": "light"
          }
        }
      ]
    },
    {
      "cell_type": "markdown",
      "metadata": {
        "id": "BIacbWd3F0Ko"
      },
      "source": [
        "`TotalBsmtSF` seem to make price increase as it increases. Some data points look like outliers"
      ]
    },
    {
      "cell_type": "code",
      "metadata": {
        "colab": {
          "base_uri": "https://localhost:8080/",
          "height": 296
        },
        "id": "1kW1opYJF0Ko",
        "outputId": "0cb9ba3c-5aaf-4988-9c8f-1ab54ea634c9"
      },
      "source": [
        "plt.scatter(df_train[\"1stFlrSF\"],df_train[\"SalePrice\"]);\n",
        "plt.xlabel(\"First Floor square feet\")\n",
        "plt.ylabel(\"House sale price\")"
      ],
      "execution_count": 17,
      "outputs": [
        {
          "output_type": "execute_result",
          "data": {
            "text/plain": [
              "Text(0, 0.5, 'House sale price')"
            ]
          },
          "metadata": {},
          "execution_count": 17
        },
        {
          "output_type": "display_data",
          "data": {
            "image/png": "[encoded data removed]",
            "text/plain": [
              "<Figure size 432x288 with 1 Axes>"
            ]
          },
          "metadata": {
            "needs_background": "light"
          }
        }
      ]
    },
    {
      "cell_type": "markdown",
      "metadata": {
        "id": "eaOZDr16F0Ko"
      },
      "source": [
        "`1stFlrSF` seem to make price increase as it increases. Some data points look like outliers"
      ]
    },
    {
      "cell_type": "code",
      "metadata": {
        "colab": {
          "base_uri": "https://localhost:8080/",
          "height": 296
        },
        "id": "CoLsci9jF0Ko",
        "outputId": "56f5cf6b-46e8-4525-c97f-ca9864ec8936"
      },
      "source": [
        "plt.scatter(df_train[\"2ndFlrSF\"],df_train[\"SalePrice\"]);\n",
        "plt.xlabel(\"Second Floor square feet\")\n",
        "plt.ylabel(\"House sale price\")"
      ],
      "execution_count": 18,
      "outputs": [
        {
          "output_type": "execute_result",
          "data": {
            "text/plain": [
              "Text(0, 0.5, 'House sale price')"
            ]
          },
          "metadata": {},
          "execution_count": 18
        },
        {
          "output_type": "display_data",
          "data": {
            "image/png": "[encoded data removed]",
            "text/plain": [
              "<Figure size 432x288 with 1 Axes>"
            ]
          },
          "metadata": {
            "needs_background": "light"
          }
        }
      ]
    },
    {
      "cell_type": "markdown",
      "metadata": {
        "id": "6GxM-fb-F0Ko"
      },
      "source": [
        "`2ndFlrSF` does not look like a predominant factor of price increase. "
      ]
    },
    {
      "cell_type": "code",
      "metadata": {
        "colab": {
          "base_uri": "https://localhost:8080/",
          "height": 296
        },
        "id": "Ewy8BVquF0Ko",
        "outputId": "a4943d6b-7a25-4e19-cc43-4dfd7a5a32f1"
      },
      "source": [
        "plt.scatter(df_train[\"GrLivArea\"],df_train[\"SalePrice\"]);\n",
        "plt.xlabel(\"Above grade (ground) living area square feet\")\n",
        "plt.ylabel(\"House sale price\")"
      ],
      "execution_count": 19,
      "outputs": [
        {
          "output_type": "execute_result",
          "data": {
            "text/plain": [
              "Text(0, 0.5, 'House sale price')"
            ]
          },
          "metadata": {},
          "execution_count": 19
        },
        {
          "output_type": "display_data",
          "data": {
            "image/png": "[encoded data removed]",
            "text/plain": [
              "<Figure size 432x288 with 1 Axes>"
            ]
          },
          "metadata": {
            "needs_background": "light"
          }
        }
      ]
    },
    {
      "cell_type": "code",
      "metadata": {
        "colab": {
          "base_uri": "https://localhost:8080/",
          "height": 296
        },
        "id": "4nY3-iTwF0Kp",
        "outputId": "71a5bbe3-efde-4385-92ee-4ca21bc2105f"
      },
      "source": [
        "plt.scatter(df_train[\"FullBath\"],df_train[\"SalePrice\"]);\n",
        "plt.xlabel(\"Full bathrooms above grade\")\n",
        "plt.ylabel(\"House sale price\")"
      ],
      "execution_count": 20,
      "outputs": [
        {
          "output_type": "execute_result",
          "data": {
            "text/plain": [
              "Text(0, 0.5, 'House sale price')"
            ]
          },
          "metadata": {},
          "execution_count": 20
        },
        {
          "output_type": "display_data",
          "data": {
            "image/png": "[encoded data removed]",
            "text/plain": [
              "<Figure size 432x288 with 1 Axes>"
            ]
          },
          "metadata": {
            "needs_background": "light"
          }
        }
      ]
    },
    {
      "cell_type": "markdown",
      "metadata": {
        "id": "UXVywMCxF0Kp"
      },
      "source": [
        "`GrLivArea` does increases the sale price. Houses with `FullBath` of 2 or more do not start at lowe rprices"
      ]
    },
    {
      "cell_type": "markdown",
      "metadata": {
        "id": "F7EjrIXEF0Kp"
      },
      "source": [
        "`OverallQuall` is a already being viewed as a categorical feature"
      ]
    },
    {
      "cell_type": "markdown",
      "metadata": {
        "id": "HWaW0o7jNGXU"
      },
      "source": [
        "## Feature Engineering"
      ]
    },
    {
      "cell_type": "markdown",
      "metadata": {
        "id": "Cb9AjboYLY1q"
      },
      "source": [
        "* Binning all features representing Year\n",
        "* Then encode them into continous feature"
      ]
    },
    {
      "cell_type": "markdown",
      "metadata": {
        "id": "xwvqfnJtmFL4"
      },
      "source": [
        "Transform target feature from heavy tailed to normal distribution using Box-Cox transformation.\n",
        "https://towardsdatascience.com/box-cox-transformation-explained-51d745e34203"
      ]
    },
    {
      "cell_type": "code",
      "metadata": {
        "id": "tTPeHWAllu9v"
      },
      "source": [
        "y_train = pd.Series(stats.boxcox(y_train, lmbda=0), name=\"SalePrice\")\n",
        "y_train_copy = y_train.copy()\n"
      ],
      "execution_count": 21,
      "outputs": []
    },
    {
      "cell_type": "code",
      "metadata": {
        "colab": {
          "base_uri": "https://localhost:8080/",
          "height": 279
        },
        "id": "JXtrqFnNJYgv",
        "outputId": "8e736e9c-1dcd-4c21-c929-ba1dc76ea922"
      },
      "source": [
        "# Confirm transformation with normal probability plot\n",
        "sns.distplot(y_train);"
      ],
      "execution_count": 22,
      "outputs": [
        {
          "output_type": "display_data",
          "data": {
            "image/png": "[encoded data removed]",
            "text/plain": [
              "<Figure size 432x288 with 1 Axes>"
            ]
          },
          "metadata": {
            "needs_background": "light"
          }
        }
      ]
    },
    {
      "cell_type": "code",
      "metadata": {
        "id": "__IZVA-6nkSI"
      },
      "source": [
        "# Binning the years\n",
        "df_all['YearBuilt'] = pd.qcut(df_all['YearBuilt'], 10, duplicates='drop') #Quantile based discretization function\n",
        "df_all['YearRemodAdd'] = pd.qcut(df_all['YearRemodAdd'], 10, duplicates='drop')\n",
        "df_all['YrSold'] = pd.qcut(df_all['YrSold'], 10, duplicates='drop')"
      ],
      "execution_count": 23,
      "outputs": []
    },
    {
      "cell_type": "code",
      "metadata": {
        "id": "fGh_4bS1oA7I"
      },
      "source": [
        "# Encode categorical to numeric features\n",
        "for cats in [\"YearBuilt\", \"YearRemodAdd\", \"YrSold\"]:\n",
        "  df_all[cats] = preprocessing.LabelEncoder().fit_transform(df_all[cats].values)"
      ],
      "execution_count": 24,
      "outputs": []
    },
    {
      "cell_type": "code",
      "metadata": {
        "id": "mGQfUXCLoCKI"
      },
      "source": [
        "# Transform some numeric to categorical features\n",
        "df_all['MSSubClass'] = df_all['MSSubClass'].astype(str)\n",
        "df_all['OverallCond'] = df_all['OverallCond'].astype(str)\n",
        "df_all['MoSold'] = df_all['MoSold'].astype(str)"
      ],
      "execution_count": 25,
      "outputs": []
    },
    {
      "cell_type": "markdown",
      "metadata": {
        "id": "wtrFeoy7o-hp"
      },
      "source": [
        "#### Generate new features"
      ]
    },
    {
      "cell_type": "code",
      "metadata": {
        "id": "QahyA9dUo91s"
      },
      "source": [
        "df_all[\"TotalSqFt\"] = df_all['BsmtFinSF1'] + df_all['BsmtFinSF2'] + df_all['1stFlrSF'] + df_all['2ndFlrSF']\n",
        "df_all[\"TotalBath\"] = (df_all['FullBath'] + (0.5 * df_all['HalfBath']) + df_all['BsmtFullBath'] + (0.5 * df_all['BsmtHalfBath']))\n",
        "df_all[\"TotalBasementBath\"] = df_all['BsmtFullBath'] + (0.5 * df_all['BsmtHalfBath'])\n",
        "df_all[\"TotalPorchSqFt\"] = (df_all['OpenPorchSF'] + df_all['3SsnPorch'] + df_all['EnclosedPorch'] + df_all['ScreenPorch'] + df_all['WoodDeckSF'])\n",
        "# Drop all features generated from\n",
        "remove_cols = ['BsmtFinSF1', 'BsmtFinSF2', 'FullBath', 'HalfBath', 'BsmtFullBath',\n",
        "              'BsmtHalfBath', 'OpenPorchSF', '3SsnPorch', 'EnclosedPorch', 'ScreenPorch', 'WoodDeckSF']\n",
        "df_all.drop(remove_cols, axis=1, inplace=True)"
      ],
      "execution_count": 26,
      "outputs": []
    },
    {
      "cell_type": "code",
      "metadata": {
        "id": "_bgYl00Vopu-"
      },
      "source": [
        "# Check existence of some features\n",
        "df_all['IsRemodel'] = df_all[['YearBuilt', 'YearRemodAdd']].apply(lambda x: 1 if x[0] != x[1] else 0, axis=1)\n",
        "df_all['HasPool'] = df_all['PoolArea'].apply(lambda x: 1 if x > 0 else 0)\n",
        "df_all['Has2ndFloor'] = df_all['2ndFlrSF'].apply(lambda x: 1 if x > 0 else 0)\n",
        "df_all['HasGarage'] = df_all['GarageArea'].apply(lambda x: 1 if x > 0 else 0)\n",
        "df_all['HasBsmt'] = df_all['TotalBsmtSF'].apply(lambda x: 1 if x > 0 else 0)\n",
        "df_all['HasFireplace'] = df_all['Fireplaces'].apply(lambda x: 1 if x > 0 else 0)"
      ],
      "execution_count": 27,
      "outputs": []
    },
    {
      "cell_type": "code",
      "metadata": {
        "id": "wWi6fzPgq8cz"
      },
      "source": [
        "# List of categorical features\n",
        "cat_features = list(df_all.select_dtypes(include=['object', 'category']).columns)\n",
        "\n",
        "# List of numeric features\n",
        "numeric_dtypes = ['int16', 'int32', 'int64', 'float16', 'float32', 'float64']\n",
        "num_features = list(df_all.select_dtypes(include=numeric_dtypes).columns)"
      ],
      "execution_count": 28,
      "outputs": []
    },
    {
      "cell_type": "code",
      "metadata": {
        "id": "WEHlcRDQrBir"
      },
      "source": [
        "# Update training and testing dataset\n",
        "df_train, df_test = divide_df(df_all)"
      ],
      "execution_count": 29,
      "outputs": []
    },
    {
      "cell_type": "code",
      "metadata": {
        "colab": {
          "base_uri": "https://localhost:8080/"
        },
        "id": "fODQ42iys19x",
        "outputId": "55d1c458-0994-44cc-feea-5f79d76adcfc"
      },
      "source": [
        "print(cat_features)"
      ],
      "execution_count": 30,
      "outputs": [
        {
          "output_type": "stream",
          "name": "stdout",
          "text": [
            "['BldgType', 'BsmtCond', 'BsmtExposure', 'BsmtFinType1', 'BsmtFinType2', 'BsmtQual', 'CentralAir', 'Condition1', 'Condition2', 'Electrical', 'ExterCond', 'ExterQual', 'Exterior1st', 'Exterior2nd', 'Foundation', 'Functional', 'GarageCond', 'GarageFinish', 'GarageQual', 'GarageType', 'Heating', 'HeatingQC', 'HouseStyle', 'KitchenQual', 'LandContour', 'LandSlope', 'LotConfig', 'LotShape', 'MSSubClass', 'MSZoning', 'MasVnrType', 'MoSold', 'Neighborhood', 'OverallCond', 'PavedDrive', 'RoofMatl', 'RoofStyle', 'SaleCondition', 'SaleType', 'Street', 'Utilities']\n"
          ]
        }
      ]
    },
    {
      "cell_type": "markdown",
      "metadata": {
        "id": "-ZBnV8Eitv6r"
      },
      "source": [
        "#### Mismatched features"
      ]
    },
    {
      "cell_type": "code",
      "metadata": {
        "colab": {
          "base_uri": "https://localhost:8080/"
        },
        "id": "iu9yavQ4tu_M",
        "outputId": "fd2f8bf8-df82-4adf-fd71-96ae476da98f"
      },
      "source": [
        "cat_mismatch = list()\n",
        "for cat_col in cat_features:\n",
        "    train_cat = df_train[cat_col].value_counts().index\n",
        "    test_cat = df_test[cat_col].value_counts().index\n",
        "    check_len = len(np.setdiff1d(train_cat, test_cat)) + len(np.setdiff1d(test_cat, train_cat))\n",
        "    if check_len != 0:\n",
        "        cat_mismatch.append(cat_col)\n",
        "        \n",
        "print('List of mismatched value features: \\n', cat_mismatch)"
      ],
      "execution_count": 31,
      "outputs": [
        {
          "output_type": "stream",
          "name": "stdout",
          "text": [
            "List of mismatched value features: \n",
            " ['Condition2', 'Electrical', 'Exterior1st', 'Exterior2nd', 'GarageQual', 'Heating', 'HouseStyle', 'MSSubClass', 'RoofMatl', 'Utilities']\n"
          ]
        }
      ]
    },
    {
      "cell_type": "code",
      "metadata": {
        "colab": {
          "base_uri": "https://localhost:8080/"
        },
        "id": "Xz1jadHguLsa",
        "outputId": "b095ad1c-f329-4648-e1c0-580e0bb8381a"
      },
      "source": [
        "df_train['Electrical'].loc[df_train['Electrical']=='Mix'] = 'SBrkr'\n",
        "df_train['Exterior2nd'].loc[df_train['Exterior2nd']=='Other'] = 'VinylSd'\n",
        "df_train['Heating'].loc[df_train['Heating']=='OthW'] = 'GasA'\n",
        "df_train['Heating'].loc[df_train['Heating']=='Floor'] = 'GasA'\n",
        "df_train['HouseStyle'].loc[df_train['HouseStyle']=='2.5Fin'] = '1.5Fin'\n",
        "df_test['MSSubClass'].loc[df_test['MSSubClass']=='150'] = '160'\n",
        "print(\"Mismatched replaced successfully\")\n",
        "\n",
        "temp = [True if ((val=='RRNn') | (val=='RRAn') | (val=='RRAe')) else False\n",
        "        for val in df_train['Condition2']]\n",
        "df_train['Condition2'].loc[temp] = 'Norm'\n",
        "\n",
        "cate_drop = ['Utilities', 'RoofMatl']\n",
        "df_train.drop(cate_drop, axis=1, inplace=True)\n",
        "df_test.drop(cate_drop, axis=1, inplace=True)\n",
        "\n",
        "cat_features = [col for col in cat_features if col not in cate_drop]\n",
        "print(cat_features)"
      ],
      "execution_count": 32,
      "outputs": [
        {
          "output_type": "stream",
          "name": "stdout",
          "text": [
            "Mismatched replaced successfully\n",
            "['BldgType', 'BsmtCond', 'BsmtExposure', 'BsmtFinType1', 'BsmtFinType2', 'BsmtQual', 'CentralAir', 'Condition1', 'Condition2', 'Electrical', 'ExterCond', 'ExterQual', 'Exterior1st', 'Exterior2nd', 'Foundation', 'Functional', 'GarageCond', 'GarageFinish', 'GarageQual', 'GarageType', 'Heating', 'HeatingQC', 'HouseStyle', 'KitchenQual', 'LandContour', 'LandSlope', 'LotConfig', 'LotShape', 'MSSubClass', 'MSZoning', 'MasVnrType', 'MoSold', 'Neighborhood', 'OverallCond', 'PavedDrive', 'RoofStyle', 'SaleCondition', 'SaleType', 'Street']\n"
          ]
        }
      ]
    },
    {
      "cell_type": "markdown",
      "metadata": {
        "id": "j-ss8dW8rLGb"
      },
      "source": [
        "## Feature Selection"
      ]
    },
    {
      "cell_type": "markdown",
      "metadata": {
        "id": "ikVJv_thOjDF"
      },
      "source": [
        "#### Categorical Features"
      ]
    },
    {
      "cell_type": "code",
      "metadata": {
        "id": "pzaFNxFrF0Kq"
      },
      "source": [
        "def forward_feature_selection(df_train, cat_features):\n",
        "  \"\"\"Function to perform forward feature selection on all categorical features\"\"\"\n",
        "  df_ffs = pd.DataFrame(columns=cat_features)\n",
        "  for cat_col in cat_features:\n",
        "    df_ffs[cat_col] = preprocessing.LabelEncoder().fit_transform(df_train[cat_col].values)\n",
        "\n",
        "  ffs = SequentialFeatureSelector(RandomForestRegressor(), k_features=\"best\", forward=True, n_jobs=-1)\n",
        "  ffs_fit = ffs.fit(np.array(df_ffs[cat_features]), np.array(y_train))\n",
        "  return ffs_fit\n",
        "\n",
        "\n",
        "ffs_fit = forward_feature_selection(df_train, cat_features)\n",
        "cat_features = list(df_all[cat_features].columns[list(ffs_fit.k_feature_idx_)])\n",
        "print(cat_features)"
      ],
      "execution_count": 33,
      "outputs": []
    },
    {
      "cell_type": "markdown",
      "metadata": {
        "id": "FibHSqjTsW6Q"
      },
      "source": [
        "Forward features selection to select the categorical features that best improves the model in an iterative process. "
      ]
    },
    {
      "cell_type": "code",
      "metadata": {
        "id": "lQ4qMMzjzeUP"
      },
      "source": [
        "cat_features =  ['BldgType', 'BsmtExposure', 'BsmtFinType1', 'BsmtQual', 'CentralAir', 'Condition1', 'Condition2', 'Electrical',\n",
        " 'ExterCond', 'ExterQual', 'Exterior2nd', 'Functional', 'GarageCond', 'GarageType', 'Heating', 'HouseStyle', 'KitchenQual',\n",
        " 'LandContour', 'LandSlope', 'LotShape', 'MSSubClass', 'Neighborhood', 'PavedDrive', 'RoofStyle',\n",
        " 'SaleCondition', 'SaleType', 'Street']"
      ],
      "execution_count": 34,
      "outputs": []
    },
    {
      "cell_type": "markdown",
      "metadata": {
        "id": "wmvNr-vxOm_5"
      },
      "source": [
        "#### Numeric Features - Check Correlation"
      ]
    },
    {
      "cell_type": "code",
      "metadata": {
        "colab": {
          "base_uri": "https://localhost:8080/"
        },
        "id": "4mGGM7HAsv1u",
        "outputId": "12d3d21e-ac15-4619-a7bb-ad8631d3db1d"
      },
      "source": [
        "pearson = dict()\n",
        "for col in num_features:\n",
        "    pear_val = stats.pearsonr(np.array(df_train[col]), np.array(y_train))[0]\n",
        "    pearson[col] = pear_val\n",
        "    \n",
        "pearson = pd.Series(pearson).abs().sort_values(ascending=False)\n",
        "num_features = list(pearson.loc[pearson > 0.2].index)\n",
        "num_features"
      ],
      "execution_count": 35,
      "outputs": [
        {
          "output_type": "execute_result",
          "data": {
            "text/plain": [
              "['OverallQual',\n",
              " 'GrLivArea',\n",
              " 'TotalSqFt',\n",
              " 'GarageCars',\n",
              " 'TotalBath',\n",
              " 'GarageArea',\n",
              " 'YearBuilt',\n",
              " 'TotalBsmtSF',\n",
              " '1stFlrSF',\n",
              " 'YearRemodAdd',\n",
              " 'TotRmsAbvGrd',\n",
              " 'HasFireplace',\n",
              " 'Fireplaces',\n",
              " 'MasVnrArea',\n",
              " 'TotalPorchSqFt',\n",
              " 'HasGarage',\n",
              " '2ndFlrSF',\n",
              " 'LotArea',\n",
              " 'TotalBasementBath',\n",
              " 'BsmtUnfSF',\n",
              " 'BedroomAbvGr']"
            ]
          },
          "metadata": {},
          "execution_count": 35
        }
      ]
    },
    {
      "cell_type": "code",
      "metadata": {
        "colab": {
          "base_uri": "https://localhost:8080/",
          "height": 634
        },
        "id": "KTELnIDnwuEe",
        "outputId": "360a04b9-1e10-4e38-a5d9-a18cb7ae72c2"
      },
      "source": [
        "chosen_cols = num_features + cat_features\n",
        "fig = plt.figure(figsize=(10, 10))\n",
        "sns.heatmap(pd.concat([df_train[chosen_cols], y_train], axis=1).corr(),vmax=0.8, square=True,\n",
        "            cmap='BuPu', annot_kws={'size': 14});"
      ],
      "execution_count": 36,
      "outputs": [
        {
          "output_type": "display_data",
          "data": {
            "image/png": "[encoded data removed]",
            "text/plain": [
              "<Figure size 720x720 with 2 Axes>"
            ]
          },
          "metadata": {
            "needs_background": "light"
          }
        }
      ]
    },
    {
      "cell_type": "code",
      "metadata": {
        "id": "AIrVXjcLwxr1",
        "colab": {
          "base_uri": "https://localhost:8080/"
        },
        "outputId": "c2884e71-e1bc-4db2-a86a-08d29ad6fd6f"
      },
      "source": [
        "df_train = df_train[chosen_cols]\n",
        "df_test = df_test[chosen_cols]\n",
        "df_all = concat_df(df_train, df_test)\n",
        "print(\"Data matched on choosen columns\")"
      ],
      "execution_count": 37,
      "outputs": [
        {
          "output_type": "stream",
          "name": "stdout",
          "text": [
            "Data matched on choosen columns\n"
          ]
        }
      ]
    },
    {
      "cell_type": "markdown",
      "metadata": {
        "id": "9eHGIo7AzDBI"
      },
      "source": [
        "### Feature Transformation"
      ]
    },
    {
      "cell_type": "code",
      "metadata": {
        "colab": {
          "base_uri": "https://localhost:8080/"
        },
        "id": "HlxSWcJIzE-B",
        "outputId": "fdb99eb0-91dd-4c87-b419-8913668508f4"
      },
      "source": [
        "skew_features = df_all[num_features].apply(lambda x: stats.skew(x)).sort_values(ascending=False)\n",
        "skew_features = skew_features[abs(skew_features) > 0.75]\n",
        "print(\"Skewed features:\")\n",
        "print(skew_features)          \n",
        "for feat in skew_features.index:\n",
        "    df_all[feat] = np.log1p(df_all[feat])"
      ],
      "execution_count": 38,
      "outputs": [
        {
          "output_type": "stream",
          "name": "stdout",
          "text": [
            "Skewed features:\n",
            "LotArea           12.822431\n",
            "MasVnrArea         2.613592\n",
            "TotalSqFt          1.835745\n",
            "1stFlrSF           1.469604\n",
            "TotalPorchSqFt     1.376649\n",
            "GrLivArea          1.269358\n",
            "TotalBsmtSF        1.162616\n",
            "BsmtUnfSF          0.919703\n",
            "2ndFlrSF           0.861675\n",
            "TotRmsAbvGrd       0.758367\n",
            "HasGarage         -3.955907\n",
            "dtype: float64\n"
          ]
        }
      ]
    },
    {
      "cell_type": "code",
      "metadata": {
        "id": "gssKy9vkzOMj",
        "colab": {
          "base_uri": "https://localhost:8080/"
        },
        "outputId": "1d3effe5-9e60-45a5-ac0a-a79172a01b03"
      },
      "source": [
        "df_train, df_test = divide_df(df_all)\n",
        "print(\"Data splitted\")"
      ],
      "execution_count": 39,
      "outputs": [
        {
          "output_type": "stream",
          "name": "stdout",
          "text": [
            "Data splitted\n"
          ]
        }
      ]
    },
    {
      "cell_type": "markdown",
      "metadata": {
        "id": "fYSAgHhTzQ8W"
      },
      "source": [
        "#### Encode Categorical features"
      ]
    },
    {
      "cell_type": "code",
      "metadata": {
        "id": "Zrgh4HdczO0p"
      },
      "source": [
        "encoded_features = list()\n",
        "for df in [df_train, df_test]:\n",
        "    for feature in cat_features:\n",
        "        encoded_feat = preprocessing.OneHotEncoder().fit_transform(df[feature].values.reshape(-1, 1)).toarray()\n",
        "        n = df[feature].nunique()\n",
        "        cols = ['{}_{}'.format(feature, n) for n in range(1, n + 1)]\n",
        "        encoded_df = pd.DataFrame(encoded_feat, columns=cols)\n",
        "        encoded_df.index = df.index\n",
        "        encoded_features.append(encoded_df)\n",
        "        \n",
        "df_train = pd.concat([df_train, *encoded_features[:len(cat_features)]], axis=1)\n",
        "df_test = pd.concat([df_test, *encoded_features[len(cat_features):]], axis=1)"
      ],
      "execution_count": 40,
      "outputs": []
    },
    {
      "cell_type": "code",
      "metadata": {
        "colab": {
          "base_uri": "https://localhost:8080/"
        },
        "id": "59pFTgMy0_xa",
        "outputId": "44e965ed-57af-4b68-a823-e4df87836b9e"
      },
      "source": [
        "print(\"Final shape of data after encoding:\")\n",
        "print(df_train.shape, df_test.shape)"
      ],
      "execution_count": 41,
      "outputs": [
        {
          "output_type": "stream",
          "name": "stdout",
          "text": [
            "Final shape of data after encoding:\n",
            "(1460, 223) (1459, 223)\n"
          ]
        }
      ]
    },
    {
      "cell_type": "code",
      "metadata": {
        "id": "vJKIAnGz0wCb",
        "colab": {
          "base_uri": "https://localhost:8080/"
        },
        "outputId": "b1cd9596-1610-49b4-8ed2-779308210fc9"
      },
      "source": [
        "df_train.drop(cat_features, axis=1, inplace=True)\n",
        "df_test.drop(cat_features, axis=1, inplace=True)\n",
        "print(\"Features dropped in train and test\")\n",
        "df_all = concat_df(df_train, df_test)"
      ],
      "execution_count": 42,
      "outputs": [
        {
          "output_type": "stream",
          "name": "stdout",
          "text": [
            "Features dropped in train and test\n"
          ]
        }
      ]
    },
    {
      "cell_type": "code",
      "metadata": {
        "colab": {
          "base_uri": "https://localhost:8080/"
        },
        "id": "U6MmNA7pzWAe",
        "outputId": "1943f99c-c0d4-4062-d2a3-6d346933cde6"
      },
      "source": [
        "print(\"Final shape of data after dropping:\")\n",
        "print(df_train.shape, df_test.shape)"
      ],
      "execution_count": 43,
      "outputs": [
        {
          "output_type": "stream",
          "name": "stdout",
          "text": [
            "Final shape of data after dropping:\n",
            "(1460, 196) (1459, 196)\n"
          ]
        }
      ]
    },
    {
      "cell_type": "code",
      "metadata": {
        "id": "e_fBn4x67aYS"
      },
      "source": [
        "x_train,x_val,y_train,y_val = train_test_split(df_train,y_train, test_size=0.2, random_state=42)"
      ],
      "execution_count": 44,
      "outputs": []
    },
    {
      "cell_type": "markdown",
      "metadata": {
        "id": "o4gimMpa1JM2"
      },
      "source": [
        "### Modeling"
      ]
    },
    {
      "cell_type": "code",
      "metadata": {
        "id": "vJ4Zh5131rY_"
      },
      "source": [
        "model_name = []\n",
        "model_result = []\n",
        "run_time = []\n",
        "\n",
        "kfolds = KFold(n_splits=10, shuffle=True, random_state=SEED)\n",
        "\n",
        "def rmse(y, y_pred):\n",
        "    \"\"\"Function to calculate rmse\"\"\"\n",
        "    return np.sqrt(mean_squared_error(y, y_pred))\n",
        "\n",
        "def evaluate_model_cv(model, X, y):\n",
        "    \"\"\"Function to get rmse for the training data\"\"\"\n",
        "    rmse = np.sqrt(-cross_val_score(model, X, y, scoring=\"neg_mean_squared_error\", cv=kfolds))\n",
        "    return (rmse)\n"
      ],
      "execution_count": 45,
      "outputs": []
    },
    {
      "cell_type": "markdown",
      "metadata": {
        "id": "YEAPzyfYJYgx"
      },
      "source": [
        "### Baseline Model - Linear Regression"
      ]
    },
    {
      "cell_type": "code",
      "metadata": {
        "colab": {
          "base_uri": "https://localhost:8080/"
        },
        "id": "4zQXz6FXJYgx",
        "outputId": "0f36a075-e392-4f1d-f2e8-e841bd4b0e1c"
      },
      "source": [
        "lr = LinearRegression()\n",
        "start = time.perf_counter()\n",
        "lr_model = lr.fit(np.array(x_train), np.array(y_train))\n",
        "rmse_result = rmse(y_val, lr_model.predict(np.array(x_val)))\n",
        "run_rmse = time.perf_counter() - start\n",
        "print(f\"RMSE for Linear Regression: \",rmse_result)\n",
        "model_name.append(\"Linear Regression\")\n",
        "model_result.append(rmse_result)\n",
        "run_time.append(run_rmse)\n"
      ],
      "execution_count": 46,
      "outputs": [
        {
          "output_type": "stream",
          "name": "stdout",
          "text": [
            "RMSE for Linear Regression:  0.1440073408822533\n"
          ]
        }
      ]
    },
    {
      "cell_type": "markdown",
      "metadata": {
        "id": "W304hDtdJYgy"
      },
      "source": [
        "### Gradient Boost Regressor"
      ]
    },
    {
      "cell_type": "code",
      "metadata": {
        "colab": {
          "base_uri": "https://localhost:8080/"
        },
        "id": "asIncfJ0JYgy",
        "outputId": "487420a3-7d12-4a2e-b0e8-7409500b2cf5"
      },
      "source": [
        "gbr = GradientBoostingRegressor()\n",
        "start = time.perf_counter()\n",
        "gbr_model = gbr.fit(np.array(x_train), np.array(y_train))\n",
        "rmse_result_gbr = rmse(y_val, gbr_model.predict(np.array(x_val)))\n",
        "print(f\"RMSE for gradient boost regressor score without optimization: \",rmse_result_gbr)\n",
        "run_gbr = time.perf_counter() - start\n",
        "model_name.append(\"GBR-no optimization\")\n",
        "model_result.append(rmse_result_gbr)\n",
        "run_time.append(run_gbr)"
      ],
      "execution_count": 47,
      "outputs": [
        {
          "output_type": "stream",
          "name": "stdout",
          "text": [
            "RMSE for gradient boost regressor score without optimization:  0.14084343954977166\n"
          ]
        }
      ]
    },
    {
      "cell_type": "code",
      "metadata": {
        "id": "HiRXNLKLJYgy"
      },
      "source": [
        "search_grid = {'n_estimators':[500,1000,2000],'learning_rate':[.001,0.01,.1],'max_depth':[1,2,4],'subsample':[.5,.75,1],'random_state':[42]}\n",
        "search = GridSearchCV(estimator=gbr,param_grid=search_grid,scoring='neg_mean_squared_error',n_jobs=1,cv=kfolds)\n",
        "search.fit(x_train,y_train)\n",
        "search.best_score_"
      ],
      "execution_count": 48,
      "outputs": []
    },
    {
      "cell_type": "code",
      "metadata": {
        "colab": {
          "base_uri": "https://localhost:8080/"
        },
        "id": "3Kv80rnoJYgy",
        "outputId": "e4c3f336-8394-46aa-de90-d2e014a800e0"
      },
      "source": [
        "gbr_ = GradientBoostingRegressor(learning_rate=0.01, max_depth=4, n_estimators=2000, random_state=42, subsample=0.5)\n",
        "start = time.perf_counter()\n",
        "pipe = Pipeline([\n",
        "                (\"scaler\", StandardScaler()),\n",
        "                (\"model\", gbr_)   \n",
        "                ])\n",
        "pipe.fit(np.array(x_train), np.array(y_train))\n",
        "rmse_result_gbr2 = rmse(y_val, pipe.predict(np.array(x_val)))\n",
        "run_gbr2 = time.perf_counter() - start\n",
        "model_name.append(\"GBR with optimization\")\n",
        "model_result.append(rmse_result_gbr2)\n",
        "run_time.append(run_gbr2)\n",
        "print(f\"rmse for gradient boost regressor score with optimization: \",rmse_result_gbr2)"
      ],
      "execution_count": 49,
      "outputs": [
        {
          "output_type": "stream",
          "name": "stdout",
          "text": [
            "rmse for gradient boost regressor score with optimization:  0.13358724965030644\n"
          ]
        }
      ]
    },
    {
      "cell_type": "markdown",
      "metadata": {
        "id": "pswJCzcAJYgy"
      },
      "source": [
        "Submission score on test set with gradient boost is: `0.13073`"
      ]
    },
    {
      "cell_type": "markdown",
      "metadata": {
        "id": "LuOWQldaJYgy"
      },
      "source": [
        "### Xtreme Gradient Boost"
      ]
    },
    {
      "cell_type": "code",
      "metadata": {
        "colab": {
          "base_uri": "https://localhost:8080/"
        },
        "id": "iDlojp7ZJYgy",
        "outputId": "cd2af6b8-c9ba-4309-ce07-8e744c2a5a16"
      },
      "source": [
        "xgb= XGBRegressor(objective='reg:squarederror')\n",
        "start = time.perf_counter()\n",
        "xgb_model = xgb.fit(np.array(x_train), np.array(y_train))\n",
        "xgb_rmse_result = rmse(y_val, xgb_model.predict(np.array(x_val)))\n",
        "run_xgb = time.perf_counter() - start\n",
        "model_name.append(\"XGB - no optimization\")\n",
        "model_result.append(xgb_rmse_result)\n",
        "run_time.append(run_xgb)\n",
        "print(f\"rmse for xgb regressor score without optimization: \",xgb_rmse_result)\n"
      ],
      "execution_count": 50,
      "outputs": [
        {
          "output_type": "stream",
          "name": "stdout",
          "text": [
            "rmse for xgb regressor score without optimization:  0.14113450342724754\n"
          ]
        }
      ]
    },
    {
      "cell_type": "code",
      "metadata": {
        "id": "_npZF6Q_JYgy"
      },
      "source": [
        "search_grid2 = {'n_estimators':[100,200,500,1000,2000],'learning_rate':[.001,0.01,.1],'max_depth':[1,2,4,6,8],'subsample':[.5,.75,1],'random_state':[42]}\n",
        "search2 = GridSearchCV(estimator=xgb,param_grid=search_grid2,scoring='neg_mean_squared_error',n_jobs=1,cv=kfolds)\n",
        "search2.fit(x_train_scaled,y_train)\n",
        "search2.best_score_"
      ],
      "execution_count": 51,
      "outputs": []
    },
    {
      "cell_type": "code",
      "metadata": {
        "colab": {
          "base_uri": "https://localhost:8080/"
        },
        "id": "SbSCorQ_JYgy",
        "outputId": "13ac1d94-2e8a-41fe-df8e-01324b0cf651"
      },
      "source": [
        "xgb = XGBRegressor(learning_rate=0.01, max_depth=4, n_estimators=2000, random_state=42, subsample=0.5,objective='reg:squarederror')\n",
        "start = time.perf_counter()\n",
        "pipe_xgb = Pipeline([\n",
        "                (\"scaler\", StandardScaler()),\n",
        "                (\"model\", xgb)   \n",
        "                ])\n",
        "pipe_xgb.fit(np.array(x_train), np.array(y_train))\n",
        "rmse_result_xgb2 = rmse(y_val, pipe_xgb.predict(np.array(x_val)))\n",
        "run_xgb2 = time.perf_counter() - start\n",
        "model_name.append(\"XGB with optimization\")\n",
        "model_result.append(rmse_result_xgb2)\n",
        "run_time.append(run_xgb2)\n",
        "print(f\"RMSE for gradient boost regressor score with optimization: \",rmse_result_xgb2)"
      ],
      "execution_count": 52,
      "outputs": [
        {
          "output_type": "stream",
          "name": "stdout",
          "text": [
            "RMSE for gradient boost regressor score with optimization:  0.13388230972788534\n"
          ]
        }
      ]
    },
    {
      "cell_type": "markdown",
      "metadata": {
        "id": "mf8k6GzKJYgy"
      },
      "source": [
        "Submission score on test set with xtreme gradient boost is: `0.12999`"
      ]
    },
    {
      "cell_type": "markdown",
      "metadata": {
        "id": "HoS6QMTtJYgy"
      },
      "source": [
        "### Neural Network Regressor"
      ]
    },
    {
      "cell_type": "code",
      "metadata": {
        "id": "3_738yyDhG-8"
      },
      "source": [
        "X = df_train.copy()\n",
        "y = y_train_copy\n",
        "scaler = StandardScaler()\n",
        "X_train = scaler.fit_transform(X.astype(np.float))"
      ],
      "execution_count": 53,
      "outputs": []
    },
    {
      "cell_type": "code",
      "metadata": {
        "colab": {
          "base_uri": "https://localhost:8080/"
        },
        "id": "SKUNKI9rKEoA",
        "outputId": "8e1b7f7a-c5cc-4b7d-e57c-4978db954e05"
      },
      "source": [
        "def create_model():\n",
        "    \"\"\"Create model\"\"\"\n",
        "    model = Sequential()\n",
        "    model.add(Dense(320, input_dim=X.shape[1], activation='relu'))\n",
        "    model.add(Dense(384, activation='relu'))\n",
        "    model.add(Dense(352, activation='relu'))\n",
        "    model.add(Dense(448, activation='relu'))\n",
        "    model.add(Dense(160, activation='relu'))\n",
        "    model.add(Dense(160, activation='relu'))\n",
        "    model.add(Dense(32, activation='relu'))\n",
        "    model.add(Dense(1))\n",
        "    model.compile(optimizer=Adam(learning_rate=0.01), loss = 'mse')\n",
        "    return model\n",
        "model = create_model()\n",
        "model.summary()"
      ],
      "execution_count": 54,
      "outputs": [
        {
          "output_type": "stream",
          "name": "stdout",
          "text": [
            "Model: \"sequential\"\n",
            "_________________________________________________________________\n",
            "Layer (type)                 Output Shape              Param #   \n",
            "=================================================================\n",
            "dense (Dense)                (None, 320)               63040     \n",
            "_________________________________________________________________\n",
            "dense_1 (Dense)              (None, 384)               123264    \n",
            "_________________________________________________________________\n",
            "dense_2 (Dense)              (None, 352)               135520    \n",
            "_________________________________________________________________\n",
            "dense_3 (Dense)              (None, 448)               158144    \n",
            "_________________________________________________________________\n",
            "dense_4 (Dense)              (None, 160)               71840     \n",
            "_________________________________________________________________\n",
            "dense_5 (Dense)              (None, 160)               25760     \n",
            "_________________________________________________________________\n",
            "dense_6 (Dense)              (None, 32)                5152      \n",
            "_________________________________________________________________\n",
            "dense_7 (Dense)              (None, 1)                 33        \n",
            "=================================================================\n",
            "Total params: 582,753\n",
            "Trainable params: 582,753\n",
            "Non-trainable params: 0\n",
            "_________________________________________________________________\n"
          ]
        }
      ]
    },
    {
      "cell_type": "code",
      "metadata": {
        "colab": {
          "base_uri": "https://localhost:8080/"
        },
        "id": "oVy8Pvo5hdJ_",
        "outputId": "6bbb953d-f835-49a9-f52d-fb597ea5460e"
      },
      "source": [
        "model = create_model()\n",
        "start = time.perf_counter()\n",
        "history = model.fit(x=x_train,y=y_train,batch_size=128,epochs=170)\n",
        "rmse_result_nn = rmse(y_val, model.predict(np.array(x_val)))\n",
        "run_nn = time.perf_counter() - start\n",
        "model_name.append(\"Neural Network\")\n",
        "model_result.append(rmse_result_nn)\n",
        "run_time.append(run_nn)\n",
        "print(f\"RMSE for Neural Network: \",rmse_result_nn)"
      ],
      "execution_count": 55,
      "outputs": [
        {
          "output_type": "stream",
          "name": "stdout",
          "text": [
            "Epoch 1/170\n",
            "10/10 [==============================] - 3s 5ms/step - loss: 38771.6484\n",
            "Epoch 2/170\n",
            "10/10 [==============================] - 0s 4ms/step - loss: 18.5679\n",
            "Epoch 3/170\n",
            "10/10 [==============================] - 0s 4ms/step - loss: 13.2289\n",
            "Epoch 4/170\n",
            "10/10 [==============================] - 0s 4ms/step - loss: 3.8345\n",
            "Epoch 5/170\n",
            "10/10 [==============================] - 0s 5ms/step - loss: 1.5905\n",
            "Epoch 6/170\n",
            "10/10 [==============================] - 0s 5ms/step - loss: 0.9299\n",
            "Epoch 7/170\n",
            "10/10 [==============================] - 0s 4ms/step - loss: 0.3653\n",
            "Epoch 8/170\n",
            "10/10 [==============================] - 0s 5ms/step - loss: 0.2421\n",
            "Epoch 9/170\n",
            "10/10 [==============================] - 0s 4ms/step - loss: 0.2508\n",
            "Epoch 10/170\n",
            "10/10 [==============================] - 0s 4ms/step - loss: 0.1825\n",
            "Epoch 11/170\n",
            "10/10 [==============================] - 0s 4ms/step - loss: 0.1557\n",
            "Epoch 12/170\n",
            "10/10 [==============================] - 0s 4ms/step - loss: 0.1442\n",
            "Epoch 13/170\n",
            "10/10 [==============================] - 0s 5ms/step - loss: 0.1475\n",
            "Epoch 14/170\n",
            "10/10 [==============================] - 0s 5ms/step - loss: 0.1431\n",
            "Epoch 15/170\n",
            "10/10 [==============================] - 0s 5ms/step - loss: 0.1221\n",
            "Epoch 16/170\n",
            "10/10 [==============================] - 0s 4ms/step - loss: 0.1979\n",
            "Epoch 17/170\n",
            "10/10 [==============================] - 0s 4ms/step - loss: 0.1570\n",
            "Epoch 18/170\n",
            "10/10 [==============================] - 0s 5ms/step - loss: 0.1380\n",
            "Epoch 19/170\n",
            "10/10 [==============================] - 0s 4ms/step - loss: 0.1000\n",
            "Epoch 20/170\n",
            "10/10 [==============================] - 0s 5ms/step - loss: 0.0790\n",
            "Epoch 21/170\n",
            "10/10 [==============================] - 0s 4ms/step - loss: 0.0946\n",
            "Epoch 22/170\n",
            "10/10 [==============================] - 0s 4ms/step - loss: 0.0759\n",
            "Epoch 23/170\n",
            "10/10 [==============================] - 0s 4ms/step - loss: 0.1462\n",
            "Epoch 24/170\n",
            "10/10 [==============================] - 0s 4ms/step - loss: 0.1224\n",
            "Epoch 25/170\n",
            "10/10 [==============================] - 0s 5ms/step - loss: 0.1672\n",
            "Epoch 26/170\n",
            "10/10 [==============================] - 0s 5ms/step - loss: 0.1263\n",
            "Epoch 27/170\n",
            "10/10 [==============================] - 0s 5ms/step - loss: 0.0609\n",
            "Epoch 28/170\n",
            "10/10 [==============================] - 0s 4ms/step - loss: 0.0646\n",
            "Epoch 29/170\n",
            "10/10 [==============================] - 0s 4ms/step - loss: 0.0667\n",
            "Epoch 30/170\n",
            "10/10 [==============================] - 0s 5ms/step - loss: 0.0872\n",
            "Epoch 31/170\n",
            "10/10 [==============================] - 0s 4ms/step - loss: 0.1819\n",
            "Epoch 32/170\n",
            "10/10 [==============================] - 0s 4ms/step - loss: 0.0701\n",
            "Epoch 33/170\n",
            "10/10 [==============================] - 0s 4ms/step - loss: 0.1220\n",
            "Epoch 34/170\n",
            "10/10 [==============================] - 0s 5ms/step - loss: 0.1091\n",
            "Epoch 35/170\n",
            "10/10 [==============================] - 0s 4ms/step - loss: 0.1105\n",
            "Epoch 36/170\n",
            "10/10 [==============================] - 0s 4ms/step - loss: 0.1163\n",
            "Epoch 37/170\n",
            "10/10 [==============================] - 0s 4ms/step - loss: 0.0933\n",
            "Epoch 38/170\n",
            "10/10 [==============================] - 0s 5ms/step - loss: 0.0808\n",
            "Epoch 39/170\n",
            "10/10 [==============================] - 0s 4ms/step - loss: 0.0737\n",
            "Epoch 40/170\n",
            "10/10 [==============================] - 0s 5ms/step - loss: 0.2105\n",
            "Epoch 41/170\n",
            "10/10 [==============================] - 0s 5ms/step - loss: 0.1730\n",
            "Epoch 42/170\n",
            "10/10 [==============================] - 0s 4ms/step - loss: 0.3449\n",
            "Epoch 43/170\n",
            "10/10 [==============================] - 0s 4ms/step - loss: 0.1166\n",
            "Epoch 44/170\n",
            "10/10 [==============================] - 0s 4ms/step - loss: 0.2484\n",
            "Epoch 45/170\n",
            "10/10 [==============================] - 0s 4ms/step - loss: 0.3497\n",
            "Epoch 46/170\n",
            "10/10 [==============================] - 0s 4ms/step - loss: 0.2781\n",
            "Epoch 47/170\n",
            "10/10 [==============================] - 0s 4ms/step - loss: 0.3675\n",
            "Epoch 48/170\n",
            "10/10 [==============================] - 0s 4ms/step - loss: 0.2538\n",
            "Epoch 49/170\n",
            "10/10 [==============================] - 0s 5ms/step - loss: 0.1207\n",
            "Epoch 50/170\n",
            "10/10 [==============================] - 0s 6ms/step - loss: 0.1302\n",
            "Epoch 51/170\n",
            "10/10 [==============================] - 0s 4ms/step - loss: 0.1294\n",
            "Epoch 52/170\n",
            "10/10 [==============================] - 0s 4ms/step - loss: 0.1995\n",
            "Epoch 53/170\n",
            "10/10 [==============================] - 0s 5ms/step - loss: 0.0695\n",
            "Epoch 54/170\n",
            "10/10 [==============================] - 0s 4ms/step - loss: 0.0601\n",
            "Epoch 55/170\n",
            "10/10 [==============================] - 0s 4ms/step - loss: 0.1608\n",
            "Epoch 56/170\n",
            "10/10 [==============================] - 0s 4ms/step - loss: 0.0362\n",
            "Epoch 57/170\n",
            "10/10 [==============================] - 0s 5ms/step - loss: 0.0325\n",
            "Epoch 58/170\n",
            "10/10 [==============================] - 0s 4ms/step - loss: 0.0807\n",
            "Epoch 59/170\n",
            "10/10 [==============================] - 0s 4ms/step - loss: 0.1558\n",
            "Epoch 60/170\n",
            "10/10 [==============================] - 0s 4ms/step - loss: 0.1293\n",
            "Epoch 61/170\n",
            "10/10 [==============================] - 0s 4ms/step - loss: 0.0985\n",
            "Epoch 62/170\n",
            "10/10 [==============================] - 0s 4ms/step - loss: 0.0548\n",
            "Epoch 63/170\n",
            "10/10 [==============================] - 0s 5ms/step - loss: 0.0754\n",
            "Epoch 64/170\n",
            "10/10 [==============================] - 0s 4ms/step - loss: 0.1101\n",
            "Epoch 65/170\n",
            "10/10 [==============================] - 0s 4ms/step - loss: 0.0352\n",
            "Epoch 66/170\n",
            "10/10 [==============================] - 0s 5ms/step - loss: 0.0816\n",
            "Epoch 67/170\n",
            "10/10 [==============================] - 0s 5ms/step - loss: 0.0477\n",
            "Epoch 68/170\n",
            "10/10 [==============================] - 0s 4ms/step - loss: 0.0243\n",
            "Epoch 69/170\n",
            "10/10 [==============================] - 0s 4ms/step - loss: 0.0511\n",
            "Epoch 70/170\n",
            "10/10 [==============================] - 0s 4ms/step - loss: 0.1258\n",
            "Epoch 71/170\n",
            "10/10 [==============================] - 0s 4ms/step - loss: 0.0996\n",
            "Epoch 72/170\n",
            "10/10 [==============================] - 0s 4ms/step - loss: 0.1258\n",
            "Epoch 73/170\n",
            "10/10 [==============================] - 0s 5ms/step - loss: 0.2197\n",
            "Epoch 74/170\n",
            "10/10 [==============================] - 0s 5ms/step - loss: 0.1715\n",
            "Epoch 75/170\n",
            "10/10 [==============================] - 0s 4ms/step - loss: 0.0926\n",
            "Epoch 76/170\n",
            "10/10 [==============================] - 0s 4ms/step - loss: 8.9914\n",
            "Epoch 77/170\n",
            "10/10 [==============================] - 0s 4ms/step - loss: 109.3660\n",
            "Epoch 78/170\n",
            "10/10 [==============================] - 0s 5ms/step - loss: 73.6230\n",
            "Epoch 79/170\n",
            "10/10 [==============================] - 0s 4ms/step - loss: 48.5102\n",
            "Epoch 80/170\n",
            "10/10 [==============================] - 0s 4ms/step - loss: 44.7286\n",
            "Epoch 81/170\n",
            "10/10 [==============================] - 0s 4ms/step - loss: 46.6923\n",
            "Epoch 82/170\n",
            "10/10 [==============================] - 0s 5ms/step - loss: 20.2521\n",
            "Epoch 83/170\n",
            "10/10 [==============================] - 0s 5ms/step - loss: 2.6936\n",
            "Epoch 84/170\n",
            "10/10 [==============================] - 0s 4ms/step - loss: 1.0156\n",
            "Epoch 85/170\n",
            "10/10 [==============================] - 0s 4ms/step - loss: 0.5093\n",
            "Epoch 86/170\n",
            "10/10 [==============================] - 0s 4ms/step - loss: 0.3392\n",
            "Epoch 87/170\n",
            "10/10 [==============================] - 0s 4ms/step - loss: 0.2476\n",
            "Epoch 88/170\n",
            "10/10 [==============================] - 0s 4ms/step - loss: 0.2113\n",
            "Epoch 89/170\n",
            "10/10 [==============================] - 0s 4ms/step - loss: 0.1797\n",
            "Epoch 90/170\n",
            "10/10 [==============================] - 0s 5ms/step - loss: 0.1540\n",
            "Epoch 91/170\n",
            "10/10 [==============================] - 0s 5ms/step - loss: 0.1447\n",
            "Epoch 92/170\n",
            "10/10 [==============================] - 0s 5ms/step - loss: 0.1399\n",
            "Epoch 93/170\n",
            "10/10 [==============================] - 0s 4ms/step - loss: 0.1320\n",
            "Epoch 94/170\n",
            "10/10 [==============================] - 0s 5ms/step - loss: 0.1179\n",
            "Epoch 95/170\n",
            "10/10 [==============================] - 0s 4ms/step - loss: 0.1179\n",
            "Epoch 96/170\n",
            "10/10 [==============================] - 0s 5ms/step - loss: 0.1200\n",
            "Epoch 97/170\n",
            "10/10 [==============================] - 0s 4ms/step - loss: 0.1258\n",
            "Epoch 98/170\n",
            "10/10 [==============================] - 0s 4ms/step - loss: 0.1108\n",
            "Epoch 99/170\n",
            "10/10 [==============================] - 0s 5ms/step - loss: 0.1065\n",
            "Epoch 100/170\n",
            "10/10 [==============================] - 0s 4ms/step - loss: 0.1093\n",
            "Epoch 101/170\n",
            "10/10 [==============================] - 0s 4ms/step - loss: 0.0909\n",
            "Epoch 102/170\n",
            "10/10 [==============================] - 0s 4ms/step - loss: 0.0884\n",
            "Epoch 103/170\n",
            "10/10 [==============================] - 0s 5ms/step - loss: 0.0930\n",
            "Epoch 104/170\n",
            "10/10 [==============================] - 0s 4ms/step - loss: 0.0866\n",
            "Epoch 105/170\n",
            "10/10 [==============================] - 0s 5ms/step - loss: 0.0791\n",
            "Epoch 106/170\n",
            "10/10 [==============================] - 0s 4ms/step - loss: 0.0761\n",
            "Epoch 107/170\n",
            "10/10 [==============================] - 0s 4ms/step - loss: 0.0758\n",
            "Epoch 108/170\n",
            "10/10 [==============================] - 0s 5ms/step - loss: 0.0741\n",
            "Epoch 109/170\n",
            "10/10 [==============================] - 0s 4ms/step - loss: 0.0719\n",
            "Epoch 110/170\n",
            "10/10 [==============================] - 0s 5ms/step - loss: 0.0699\n",
            "Epoch 111/170\n",
            "10/10 [==============================] - 0s 4ms/step - loss: 0.0707\n",
            "Epoch 112/170\n",
            "10/10 [==============================] - 0s 5ms/step - loss: 0.0671\n",
            "Epoch 113/170\n",
            "10/10 [==============================] - 0s 4ms/step - loss: 0.0706\n",
            "Epoch 114/170\n",
            "10/10 [==============================] - 0s 5ms/step - loss: 0.0697\n",
            "Epoch 115/170\n",
            "10/10 [==============================] - 0s 5ms/step - loss: 0.0645\n",
            "Epoch 116/170\n",
            "10/10 [==============================] - 0s 5ms/step - loss: 0.0611\n",
            "Epoch 117/170\n",
            "10/10 [==============================] - 0s 4ms/step - loss: 0.0617\n",
            "Epoch 118/170\n",
            "10/10 [==============================] - 0s 4ms/step - loss: 0.0632\n",
            "Epoch 119/170\n",
            "10/10 [==============================] - 0s 4ms/step - loss: 0.0602\n",
            "Epoch 120/170\n",
            "10/10 [==============================] - 0s 5ms/step - loss: 0.0587\n",
            "Epoch 121/170\n",
            "10/10 [==============================] - 0s 4ms/step - loss: 0.0593\n",
            "Epoch 122/170\n",
            "10/10 [==============================] - 0s 4ms/step - loss: 0.0602\n",
            "Epoch 123/170\n",
            "10/10 [==============================] - 0s 5ms/step - loss: 0.0568\n",
            "Epoch 124/170\n",
            "10/10 [==============================] - 0s 4ms/step - loss: 0.0575\n",
            "Epoch 125/170\n",
            "10/10 [==============================] - 0s 5ms/step - loss: 0.0530\n",
            "Epoch 126/170\n",
            "10/10 [==============================] - 0s 4ms/step - loss: 0.0519\n",
            "Epoch 127/170\n",
            "10/10 [==============================] - 0s 4ms/step - loss: 0.0517\n",
            "Epoch 128/170\n",
            "10/10 [==============================] - 0s 4ms/step - loss: 0.0514\n",
            "Epoch 129/170\n",
            "10/10 [==============================] - 0s 5ms/step - loss: 0.0509\n",
            "Epoch 130/170\n",
            "10/10 [==============================] - 0s 4ms/step - loss: 0.0496\n",
            "Epoch 131/170\n",
            "10/10 [==============================] - 0s 5ms/step - loss: 0.0534\n",
            "Epoch 132/170\n",
            "10/10 [==============================] - 0s 4ms/step - loss: 0.0497\n",
            "Epoch 133/170\n",
            "10/10 [==============================] - 0s 4ms/step - loss: 0.0519\n",
            "Epoch 134/170\n",
            "10/10 [==============================] - 0s 5ms/step - loss: 0.0484\n",
            "Epoch 135/170\n",
            "10/10 [==============================] - 0s 4ms/step - loss: 0.0530\n",
            "Epoch 136/170\n",
            "10/10 [==============================] - 0s 4ms/step - loss: 0.0452\n",
            "Epoch 137/170\n",
            "10/10 [==============================] - 0s 4ms/step - loss: 0.0445\n",
            "Epoch 138/170\n",
            "10/10 [==============================] - 0s 4ms/step - loss: 0.0456\n",
            "Epoch 139/170\n",
            "10/10 [==============================] - 0s 5ms/step - loss: 0.0612\n",
            "Epoch 140/170\n",
            "10/10 [==============================] - 0s 4ms/step - loss: 0.0541\n",
            "Epoch 141/170\n",
            "10/10 [==============================] - 0s 4ms/step - loss: 0.0450\n",
            "Epoch 142/170\n",
            "10/10 [==============================] - 0s 4ms/step - loss: 0.0424\n",
            "Epoch 143/170\n",
            "10/10 [==============================] - 0s 5ms/step - loss: 0.0452\n",
            "Epoch 144/170\n",
            "10/10 [==============================] - 0s 5ms/step - loss: 0.0467\n",
            "Epoch 145/170\n",
            "10/10 [==============================] - 0s 4ms/step - loss: 0.0431\n",
            "Epoch 146/170\n",
            "10/10 [==============================] - 0s 4ms/step - loss: 0.0448\n",
            "Epoch 147/170\n",
            "10/10 [==============================] - 0s 4ms/step - loss: 0.0389\n",
            "Epoch 148/170\n",
            "10/10 [==============================] - 0s 5ms/step - loss: 0.0543\n",
            "Epoch 149/170\n",
            "10/10 [==============================] - 0s 4ms/step - loss: 0.0407\n",
            "Epoch 150/170\n",
            "10/10 [==============================] - 0s 6ms/step - loss: 0.0417\n",
            "Epoch 151/170\n",
            "10/10 [==============================] - 0s 5ms/step - loss: 0.0373\n",
            "Epoch 152/170\n",
            "10/10 [==============================] - 0s 4ms/step - loss: 0.0455\n",
            "Epoch 153/170\n",
            "10/10 [==============================] - 0s 4ms/step - loss: 0.0439\n",
            "Epoch 154/170\n",
            "10/10 [==============================] - 0s 5ms/step - loss: 0.0380\n",
            "Epoch 155/170\n",
            "10/10 [==============================] - 0s 4ms/step - loss: 0.0394\n",
            "Epoch 156/170\n",
            "10/10 [==============================] - 0s 4ms/step - loss: 0.0326\n",
            "Epoch 157/170\n",
            "10/10 [==============================] - 0s 4ms/step - loss: 0.0332\n",
            "Epoch 158/170\n",
            "10/10 [==============================] - 0s 5ms/step - loss: 0.0330\n",
            "Epoch 159/170\n",
            "10/10 [==============================] - 0s 4ms/step - loss: 0.0326\n",
            "Epoch 160/170\n",
            "10/10 [==============================] - 0s 4ms/step - loss: 0.0327\n",
            "Epoch 161/170\n",
            "10/10 [==============================] - 0s 5ms/step - loss: 0.0362\n",
            "Epoch 162/170\n",
            "10/10 [==============================] - 0s 4ms/step - loss: 0.0323\n",
            "Epoch 163/170\n",
            "10/10 [==============================] - 0s 5ms/step - loss: 0.0327\n",
            "Epoch 164/170\n",
            "10/10 [==============================] - 0s 4ms/step - loss: 0.0321\n",
            "Epoch 165/170\n",
            "10/10 [==============================] - 0s 5ms/step - loss: 0.0292\n",
            "Epoch 166/170\n",
            "10/10 [==============================] - 0s 5ms/step - loss: 0.0288\n",
            "Epoch 167/170\n",
            "10/10 [==============================] - 0s 5ms/step - loss: 0.0294\n",
            "Epoch 168/170\n",
            "10/10 [==============================] - 0s 5ms/step - loss: 0.0286\n",
            "Epoch 169/170\n",
            "10/10 [==============================] - 0s 5ms/step - loss: 0.0287\n",
            "Epoch 170/170\n",
            "10/10 [==============================] - 0s 4ms/step - loss: 0.0330\n",
            "RMSE for Neural Network:  0.2223586277169018\n"
          ]
        }
      ]
    },
    {
      "cell_type": "markdown",
      "metadata": {
        "id": "kb-1fUdQJYgy"
      },
      "source": [
        "Best score on leaderboard for Neural Network is `0.21907`.\n",
        "Keras doesn't seem to be a suitable model for this dataset because the data given is not sufficient."
      ]
    },
    {
      "cell_type": "code",
      "metadata": {
        "id": "waBfALuN8MYX"
      },
      "source": [
        "X_test = df_test.copy()\n",
        "X_test_scaled = scaler.transform(X_test)\n",
        "sub = pd.read_csv(\"sample_submission.csv\")\n",
        "pred = np.exp(model.predict(X_test))\n",
        "sub.SalePrice=pred\n",
        "sub.to_csv(\"submission16.csv\",index=False)"
      ],
      "execution_count": 58,
      "outputs": []
    },
    {
      "cell_type": "markdown",
      "metadata": {
        "id": "XcnIqMyCAjLY"
      },
      "source": [
        "## Model Evaluation"
      ]
    },
    {
      "cell_type": "code",
      "metadata": {
        "colab": {
          "base_uri": "https://localhost:8080/",
          "height": 235
        },
        "id": "NeR_fxC2AjLY",
        "outputId": "f579baaa-0fe8-445d-bbac-e9d3da5dd74a"
      },
      "source": [
        "result = pd.DataFrame(\n",
        "    {\n",
        "        \"Model\": model_name,\n",
        "        \"result\": model_result,\n",
        "        \"runtime(seconds)\": run_time\n",
        "}\n",
        ")\n",
        "result.sort_values(by=\"result\")"
      ],
      "execution_count": 57,
      "outputs": [
        {
          "output_type": "execute_result",
          "data": {
            "text/html": [
              "<div>\n",
              "<style scoped>\n",
              "    .dataframe tbody tr th:only-of-type {\n",
              "        vertical-align: middle;\n",
              "    }\n",
              "\n",
              "    .dataframe tbody tr th {\n",
              "        vertical-align: top;\n",
              "    }\n",
              "\n",
              "    .dataframe thead th {\n",
              "        text-align: right;\n",
              "    }\n",
              "</style>\n",
              "<table border=\"1\" class=\"dataframe\">\n",
              "  <thead>\n",
              "    <tr style=\"text-align: right;\">\n",
              "      <th></th>\n",
              "      <th>Model</th>\n",
              "      <th>result</th>\n",
              "      <th>runtime(seconds)</th>\n",
              "    </tr>\n",
              "  </thead>\n",
              "  <tbody>\n",
              "    <tr>\n",
              "      <th>2</th>\n",
              "      <td>GBR with optimization</td>\n",
              "      <td>0.133587</td>\n",
              "      <td>9.450339</td>\n",
              "    </tr>\n",
              "    <tr>\n",
              "      <th>4</th>\n",
              "      <td>XGB with optimization</td>\n",
              "      <td>0.133882</td>\n",
              "      <td>15.291346</td>\n",
              "    </tr>\n",
              "    <tr>\n",
              "      <th>1</th>\n",
              "      <td>GBR-no optimization</td>\n",
              "      <td>0.140843</td>\n",
              "      <td>0.679887</td>\n",
              "    </tr>\n",
              "    <tr>\n",
              "      <th>3</th>\n",
              "      <td>XGB - no optimization</td>\n",
              "      <td>0.141135</td>\n",
              "      <td>1.303556</td>\n",
              "    </tr>\n",
              "    <tr>\n",
              "      <th>0</th>\n",
              "      <td>Linear Regression</td>\n",
              "      <td>0.144007</td>\n",
              "      <td>0.041636</td>\n",
              "    </tr>\n",
              "    <tr>\n",
              "      <th>5</th>\n",
              "      <td>Neural Network</td>\n",
              "      <td>0.222359</td>\n",
              "      <td>12.282450</td>\n",
              "    </tr>\n",
              "  </tbody>\n",
              "</table>\n",
              "</div>"
            ],
            "text/plain": [
              "                   Model    result  runtime(seconds)\n",
              "2  GBR with optimization  0.133587          9.450339\n",
              "4  XGB with optimization  0.133882         15.291346\n",
              "1    GBR-no optimization  0.140843          0.679887\n",
              "3  XGB - no optimization  0.141135          1.303556\n",
              "0      Linear Regression  0.144007          0.041636\n",
              "5         Neural Network  0.222359         12.282450"
            ]
          },
          "metadata": {},
          "execution_count": 57
        }
      ]
    },
    {
      "cell_type": "markdown",
      "metadata": {
        "id": "CwKE5lZ7JYgz"
      },
      "source": [
        "## Conclusion"
      ]
    },
    {
      "cell_type": "markdown",
      "metadata": {
        "id": "I2LgHMlAExvc"
      },
      "source": [
        "The shortest runtime was achieved with Simple Linear Regression while Gradient Boost Regressor with hyperparameter tuning performed optimally in terms of validation score. \n",
        "\n",
        "The Xtreme Gradient Boost achieved the best score of `0.12999` on the leaderboard.\n",
        "\n",
        "Neural Network performed worse both on the validation test and also on the leaderboard. This can be attributed to insufficient data."
      ]
    }
  ]
}